{
 "cells": [
  {
   "cell_type": "code",
   "execution_count": 200,
   "id": "dc75eebb-c9cd-47cd-9b08-b4c0eb920c7a",
   "metadata": {},
   "outputs": [],
   "source": [
    "import numpy as np\n",
    "import matplotlib.pyplot as plt"
   ]
  },
  {
   "cell_type": "code",
   "execution_count": 201,
   "id": "f635d041-1718-481b-89d5-726df4d928a2",
   "metadata": {},
   "outputs": [],
   "source": [
    "# The most common way to represent vectors in Python are represented using NumPy arrays\n",
    "# NumPy arrays take in default Python arrays\n",
    "x = np.array([1, 2, 3, 4, 5])\n",
    "\n",
    "v = [1, 2, 3, 4, 5]\n",
    "x = np.array(v)"
   ]
  },
  {
   "cell_type": "code",
   "execution_count": 202,
   "id": "d82591ef",
   "metadata": {},
   "outputs": [
    {
     "data": {
      "text/plain": [
       "3"
      ]
     },
     "execution_count": 202,
     "metadata": {},
     "output_type": "execute_result"
    }
   ],
   "source": [
    "# NumPy arrays can be accessed just like normal arrays\n",
    "x[2]"
   ]
  },
  {
   "cell_type": "code",
   "execution_count": 203,
   "id": "9e5618a8",
   "metadata": {},
   "outputs": [
    {
     "data": {
      "text/plain": [
       "5"
      ]
     },
     "execution_count": 203,
     "metadata": {},
     "output_type": "execute_result"
    }
   ],
   "source": [
    "# NumPy arrays have a special index of -1, the last element in the array\n",
    "x[-1]"
   ]
  },
  {
   "cell_type": "code",
   "execution_count": 204,
   "id": "e7b8a651",
   "metadata": {},
   "outputs": [
    {
     "data": {
      "text/plain": [
       "10"
      ]
     },
     "execution_count": 204,
     "metadata": {},
     "output_type": "execute_result"
    }
   ],
   "source": [
    "# When copying arrays, make sure to use copy() instead of assigning the array directly\n",
    "y = x\n",
    "z = x.copy()\n",
    "\n",
    "# Direct assignment means that y here will point to x, not make a new array containing the same data as x.\n",
    "x[0] = 10\n",
    "y[0]"
   ]
  },
  {
   "cell_type": "code",
   "execution_count": 205,
   "id": "585caa30",
   "metadata": {},
   "outputs": [
    {
     "data": {
      "text/plain": [
       "1"
      ]
     },
     "execution_count": 205,
     "metadata": {},
     "output_type": "execute_result"
    }
   ],
   "source": [
    "# z isn't affected by changing x since it is a copy\n",
    "z[0]"
   ]
  },
  {
   "cell_type": "code",
   "execution_count": 206,
   "id": "4fe489bb",
   "metadata": {},
   "outputs": [
    {
     "data": {
      "text/plain": [
       "array([ True,  True, False,  True, False])"
      ]
     },
     "execution_count": 206,
     "metadata": {},
     "output_type": "execute_result"
    }
   ],
   "source": [
    "# Comparing the elements of two arrays is easy\n",
    "x = np.array([1, 2, 3, 4, 5])\n",
    "y = np.array([1, 2, 0, 4, -1])\n",
    "\n",
    "# We get a boolean array where each index tells us if the same index in both arrays were equal\n",
    "x == y"
   ]
  },
  {
   "cell_type": "code",
   "execution_count": 207,
   "id": "5878cca9",
   "metadata": {},
   "outputs": [
    {
     "data": {
      "text/plain": [
       "False"
      ]
     },
     "execution_count": 207,
     "metadata": {},
     "output_type": "execute_result"
    }
   ],
   "source": [
    "# If we want a single boolean value to say if the arrays are equal, we can use np.all() to compare the elements of our boolean array to each other  \n",
    "np.all(x == y) "
   ]
  },
  {
   "cell_type": "code",
   "execution_count": 208,
   "id": "b925b0a5",
   "metadata": {},
   "outputs": [
    {
     "data": {
      "text/plain": [
       "array([ True])"
      ]
     },
     "execution_count": 208,
     "metadata": {},
     "output_type": "execute_result"
    }
   ],
   "source": [
    "# In the textbook, scalars are treated as vectors of size 1\n",
    "x = 2.0\n",
    "y = np.array([2.0])\n",
    "\n",
    "x == y"
   ]
  },
  {
   "cell_type": "code",
   "execution_count": 209,
   "id": "a5be228b",
   "metadata": {},
   "outputs": [
    {
     "data": {
      "text/plain": [
       "False"
      ]
     },
     "execution_count": 209,
     "metadata": {},
     "output_type": "execute_result"
    }
   ],
   "source": [
    "# Only with NumPy arrays are they considered the same, not Python arrays\n",
    "x = 2.0\n",
    "y = [2.0]\n",
    "\n",
    "x == y"
   ]
  },
  {
   "cell_type": "code",
   "execution_count": 210,
   "id": "d5838c6c",
   "metadata": {},
   "outputs": [
    {
     "data": {
      "text/plain": [
       "array([1, 2, 3, 4])"
      ]
     },
     "execution_count": 210,
     "metadata": {},
     "output_type": "execute_result"
    }
   ],
   "source": [
    "# We can join two arrays by concatenating them, creating a longer array to represent stacked vectors\n",
    "x = np.array([1, 2])\n",
    "y = np.array([3, 4])\n",
    "\n",
    "z = np.concatenate((x, y))\n",
    "z"
   ]
  },
  {
   "cell_type": "code",
   "execution_count": 211,
   "id": "19f10d8c",
   "metadata": {},
   "outputs": [
    {
     "data": {
      "text/plain": [
       "array([2, 3])"
      ]
     },
     "execution_count": 211,
     "metadata": {},
     "output_type": "execute_result"
    }
   ],
   "source": [
    "# We can slice arrays to gain access to specific indexes\n",
    "x = np.array([1, 2, 3, 4, 5])\n",
    "\n",
    "# We use the : operator to signify a slice between index i (inclusive) and index j (exclusive) [i:j]\n",
    "x[1:3]"
   ]
  },
  {
   "cell_type": "code",
   "execution_count": 212,
   "id": "871a3b89",
   "metadata": {},
   "outputs": [
    {
     "data": {
      "text/plain": [
       "array([1, 2, 3])"
      ]
     },
     "execution_count": 212,
     "metadata": {},
     "output_type": "execute_result"
    }
   ],
   "source": [
    "# We can omit a side to go from a starting index to the end of the array or an ending index to the start of the array\n",
    "x[:3]"
   ]
  },
  {
   "cell_type": "code",
   "execution_count": 213,
   "id": "bc4a851f",
   "metadata": {},
   "outputs": [
    {
     "data": {
      "text/plain": [
       "array([1., 1., 0., 0.])"
      ]
     },
     "execution_count": 213,
     "metadata": {},
     "output_type": "execute_result"
    }
   ],
   "source": [
    "# One vectors and zero vectors have a convenient way to initialize them up to a certain size\n",
    "x = np.ones(2)\n",
    "y = np.zeros(2)\n",
    "\n",
    "np.concatenate((x, y))"
   ]
  },
  {
   "cell_type": "code",
   "execution_count": 214,
   "id": "b90217bf",
   "metadata": {},
   "outputs": [
    {
     "data": {
      "image/png": "[encoded data removed]",
      "text/plain": [
       "<Figure size 640x480 with 1 Axes>"
      ]
     },
     "metadata": {},
     "output_type": "display_data"
    },
    {
     "data": {
      "text/plain": [
       "<Figure size 640x480 with 0 Axes>"
      ]
     },
     "metadata": {},
     "output_type": "display_data"
    }
   ],
   "source": [
    "# If we want to plot our vectors, we can use matplotlib to graph them\n",
    "temps = [ 71, 71, 68, 69, 68, 69, 68, 74, 77, 82, 85, 86, 88, 86,\n",
    "        85, 86, 84, 79, 77, 75, 73, 71, 70, 70, 69, 69, 69, 69, 67,\n",
    "        68, 68, 73, 76, 77, 82, 84, 84, 81, 80, 78, 79, 78, 73, 72,\n",
    "        70, 70, 68, 67 ]\n",
    "\n",
    "plt.plot(temps, '-ro')\n",
    "\n",
    "# We can add labels to our axes\n",
    "plt.ylabel(\"Temperature (Faherenheit)\")\n",
    "\n",
    "# We can display our plot in Jupyter Notebook\n",
    "plt.ion()\n",
    "plt.show()\n",
    "\n",
    "# We can save our plots as files to our current directory\n",
    "plt.savefig('temperature.pdf', format = 'pdf')"
   ]
  },
  {
   "cell_type": "code",
   "execution_count": null,
   "id": "ccc45a0e",
   "metadata": {},
   "outputs": [],
   "source": []
  }
 ],
 "metadata": {
  "kernelspec": {
   "display_name": "Python 3 (ipykernel)",
   "language": "python",
   "name": "python3"
  },
  "language_info": {
   "codemirror_mode": {
    "name": "ipython",
    "version": 3
   },
   "file_extension": ".py",
   "mimetype": "text/x-python",
   "name": "python",
   "nbconvert_exporter": "python",
   "pygments_lexer": "ipython3",
   "version": "3.11.5"
  }
 },
 "nbformat": 4,
 "nbformat_minor": 5
}
