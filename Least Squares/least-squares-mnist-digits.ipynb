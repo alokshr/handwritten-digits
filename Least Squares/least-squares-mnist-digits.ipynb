{
 "cells": [
  {
   "cell_type": "code",
   "execution_count": 326,
   "metadata": {},
   "outputs": [],
   "source": [
    "import numpy as np\n",
    "import random\n",
    "import matplotlib.pyplot as plt\n"
   ]
  },
  {
   "cell_type": "code",
   "execution_count": 327,
   "metadata": {},
   "outputs": [
    {
     "name": "stdout",
     "output_type": "stream",
     "text": [
      "Downloading mnist...\n"
     ]
    }
   ],
   "source": [
    "print(\"Downloading mnist...\")\n",
    "mnist = np.load('mnist.npz')\n",
    "\n",
    "normalize = lambda X : (2/255)*X - 1"
   ]
  },
  {
   "cell_type": "code",
   "execution_count": 328,
   "metadata": {},
   "outputs": [],
   "source": [
    "num_train_images = 1000\n",
    "\n",
    "Xtrain = normalize(mnist['x_train'][:num_train_images])\n",
    "Ytrain = mnist['y_train'][:num_train_images]"
   ]
  },
  {
   "cell_type": "code",
   "execution_count": 329,
   "metadata": {},
   "outputs": [
    {
     "name": "stderr",
     "output_type": "stream",
     "text": [
      "C:\\Users\\aloks\\AppData\\Local\\Temp\\ipykernel_6244\\1056554123.py:15: FutureWarning: `rcond` parameter will change to the default of machine precision times ``max(M, N)`` where M and N are the input matrix dimensions.\n",
      "To use the future default and silence this warning we advise to pass `rcond=None`, to keep using the old, explicitly pass `rcond=-1`.\n",
      "  detectors[i] = np.linalg.lstsq(Xtrain, labels[i])[0]\n"
     ]
    }
   ],
   "source": [
    "# Creating the digits classifiers using least squares\n",
    "Xtrain = Xtrain.reshape(num_train_images, -1).astype(np.float64)\n",
    "Ytrain = Ytrain.reshape(num_train_images, -1).astype(np.float64)\n",
    "\n",
    "labels = {}\n",
    "\n",
    "for i in range(0, 10):\n",
    "    labels[i] = np.copy(Ytrain)\n",
    "    labels[i][labels[i] != i] = -1\n",
    "    labels[i][labels[i] == i] = 1\n",
    "\n",
    "detectors = {}\n",
    "\n",
    "for i in range(0, 10):\n",
    "    detectors[i] = np.linalg.lstsq(Xtrain, labels[i])[0]\n",
    "\n",
    "def determine_digit(image):\n",
    "    estimates = []\n",
    "\n",
    "    for i in range(0, 10):\n",
    "        estimates.append(np.matmul(image.reshape(1,-1).astype(np.float64), detectors[i]))\n",
    "    \n",
    "    return np.argmax(estimates)"
   ]
  },
  {
   "cell_type": "code",
   "execution_count": 330,
   "metadata": {},
   "outputs": [
    {
     "name": "stdout",
     "output_type": "stream",
     "text": [
      "This is a 5\n"
     ]
    },
    {
     "data": {
      "image/png": "[encoded data removed]",
      "text/plain": [
       "<Figure size 640x480 with 1 Axes>"
      ]
     },
     "metadata": {},
     "output_type": "display_data"
    }
   ],
   "source": [
    "num_test_images = 100\n",
    "\n",
    "Xtest = normalize(mnist['x_test'][:num_test_images])\n",
    "Ytest = mnist['y_test'][:num_test_images]\n",
    "\n",
    "i = random.randrange(0, num_test_images, 1)\n",
    "\n",
    "image = Xtest[i]\n",
    "\n",
    "plt.imshow(image)\n",
    "\n",
    "print(\"This is a \" + str(determine_digit(image)))"
   ]
  },
  {
   "cell_type": "code",
   "execution_count": 332,
   "metadata": {},
   "outputs": [
    {
     "name": "stdout",
     "output_type": "stream",
     "text": [
      "0.64\n",
      "0.36\n"
     ]
    }
   ],
   "source": [
    "guesses = []\n",
    "\n",
    "for image in Xtest:\n",
    "    guesses.append(determine_digit(image))\n",
    "\n",
    "truths = np.array(guesses)\n",
    "\n",
    "truths[truths != Ytest] = 0\n",
    "truths[truths == Ytest] = 1\n",
    "\n",
    "hits = np.sum(truths)\n",
    "misses = np.sum(1-truths)\n",
    "\n",
    "prediction_rate = hits/num_test_images\n",
    "miss_rate = misses/num_test_images\n",
    "\n",
    "print(prediction_rate)\n",
    "print(miss_rate)\n"
   ]
  }
 ],
 "metadata": {
  "kernelspec": {
   "display_name": "Python 3",
   "language": "python",
   "name": "python3"
  },
  "language_info": {
   "codemirror_mode": {
    "name": "ipython",
    "version": 3
   },
   "file_extension": ".py",
   "mimetype": "text/x-python",
   "name": "python",
   "nbconvert_exporter": "python",
   "pygments_lexer": "ipython3",
   "version": "3.11.5"
  }
 },
 "nbformat": 4,
 "nbformat_minor": 2
}
